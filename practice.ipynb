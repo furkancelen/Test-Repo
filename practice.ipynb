{
 "cells": [
  {
   "cell_type": "code",
   "execution_count": null,
   "metadata": {},
   "outputs": [],
   "source": [
    "def quadratic_algo(items):\n",
    "    for item in items:\n",
    "        for item2 in items:\n",
    "            print(item, ' ' ,item)\n",
    "\n",
    "quadratic_algo([4, 5, 6, 8])"
   ]
  },
  {
   "cell_type": "code",
   "execution_count": null,
   "metadata": {},
   "outputs": [],
   "source": [
    "def return_squares(n):\n",
    "    square_list = []\n",
    "    for num in n:\n",
    "        square_list.append(num * num)\n",
    "\n",
    "    return square_list\n",
    "\n",
    "nums = [2, 4, 6, 8, 10]\n",
    "print(return_squares(nums))"
   ]
  },
  {
   "cell_type": "code",
   "execution_count": 29,
   "metadata": {},
   "outputs": [
    {
     "data": {
      "text/plain": [
       "'Miles says Bow wow'"
      ]
     },
     "execution_count": 29,
     "metadata": {},
     "output_type": "execute_result"
    }
   ],
   "source": [
    "class Dog:\n",
    "    species = \"Husky\"\n",
    "    def __init__(self, name, age):\n",
    "        self.name = name\n",
    "        self.age = age\n",
    "\n",
    "    def description(self):\n",
    "        return f\"{self.name} is {self.age} years old\"\n",
    "\n",
    "    def speak(self, sound):\n",
    "        return f\"{self.name} says {sound}\"    \n",
    "\n",
    "miles = Dog(\"Miles\", 4)\n",
    "\n",
    "miles.description()\n",
    "\n",
    "miles.speak(\"Woof Woof\")\n",
    "\n",
    "miles.speak(\"Bow wow\")"
   ]
  },
  {
   "cell_type": "code",
   "execution_count": 11,
   "metadata": {},
   "outputs": [
    {
     "name": "stdout",
     "output_type": "stream",
     "text": [
      "The blue car has 20000 miles\n",
      "The red car has 30000 miles\n"
     ]
    }
   ],
   "source": [
    "class Car:\n",
    "    def __init__(self, color , mileage):\n",
    "        self.color = color\n",
    "        self.mileage = mileage\n",
    "blue_car = Car(color= \"blue\", mileage= 20_000)\n",
    "red_car = Car(color= \"red\", mileage=30_000)\n",
    "\n",
    "\n",
    "for car in (blue_car, red_car):\n",
    "    print (f\"The {car.color} car has {car.mileage} miles\")"
   ]
  },
  {
   "cell_type": "code",
   "execution_count": 19,
   "metadata": {},
   "outputs": [
    {
     "name": "stdout",
     "output_type": "stream",
     "text": [
      "Parrot can fly\n",
      "Penguin can't fly\n",
      "Parrot can't swim\n",
      "Penguin can swim\n"
     ]
    }
   ],
   "source": [
    "class Parrot:\n",
    "    def fly(self):\n",
    "        print(\"Parrot can fly\")\n",
    "\n",
    "    def swim(self):\n",
    "        print(\"Parrot can't swim\")\n",
    "\n",
    "class Penguin:\n",
    "    def fly(self):\n",
    "        print(\"Penguin can't fly\")\n",
    "\n",
    "    def swim(self):\n",
    "        print(\"Penguin can swim\")\n",
    "\n",
    "def flying_test(bird):\n",
    "    bird.fly()\n",
    "def swimming_test(self):\n",
    "    self.swim()\n",
    "\n",
    "blu = Parrot()\n",
    "peggy = Penguin()\n",
    "\n",
    "flying_test(blu)\n",
    "flying_test(peggy)\n",
    "\n",
    "swimming_test(blu)\n",
    "swimming_test(peggy)\n"
   ]
  },
  {
   "cell_type": "code",
   "execution_count": 26,
   "metadata": {},
   "outputs": [
    {
     "name": "stdout",
     "output_type": "stream",
     "text": [
      "[3, 6, 4, 4, 9, 8, 3, 3, 10, 10]\n",
      "58\n"
     ]
    }
   ],
   "source": [
    "import random\n",
    "\n",
    "lst10m = [1,2,3,4,5,6,7,8,9,10]\n",
    "\n",
    "arr = random.choices(lst10m,k=10)\n",
    "x = random.randrange(0,100)\n",
    "\n",
    "print(arr)\n",
    "print(x)"
   ]
  },
  {
   "cell_type": "code",
   "execution_count": 52,
   "metadata": {},
   "outputs": [
    {
     "data": {
      "text/plain": [
       "-1"
      ]
     },
     "execution_count": 52,
     "metadata": {},
     "output_type": "execute_result"
    }
   ],
   "source": [
    "arr = [1,3,5,9]\n",
    "\n",
    "def search_iterative2(arr, x):\n",
    "    for index, y in enumerate(arr):\n",
    "        if y == x:\n",
    "            return index\n",
    "    return -1;\n",
    "\n",
    "\n",
    "search_iterative2(arr, 2)"
   ]
  },
  {
   "cell_type": "code",
   "execution_count": 70,
   "metadata": {},
   "outputs": [
    {
     "data": {
      "text/plain": [
       "4"
      ]
     },
     "execution_count": 70,
     "metadata": {},
     "output_type": "execute_result"
    }
   ],
   "source": [
    "\n",
    "def binary_search_iterative(arr, x):\n",
    "    low = 0\n",
    "    high = len(arr) - 1\n",
    "    mid = 0\n",
    "    while low <= high:\n",
    "        mid = (high + low) // 2\n",
    "        if arr[mid] < x:\n",
    "            low = mid + 1\n",
    "        elif arr[mid] > x:\n",
    "            high = mid - 1\n",
    "        else:\n",
    "            return mid\n",
    "    return -1\n",
    "\n",
    "\n",
    "arr = [1,3,5,7,9]\n",
    "\n",
    "binary_search_iterative(arr, 9)\n"
   ]
  },
  {
   "cell_type": "code",
   "execution_count": 2,
   "metadata": {},
   "outputs": [
    {
     "name": "stdout",
     "output_type": "stream",
     "text": [
      "4\n"
     ]
    }
   ],
   "source": [
    "def binary_search_recursive(arr, x):\n",
    "    if len(arr) == 0:\n",
    "        return -1;\n",
    "\n",
    "    midindex = len(arr) // 2\n",
    "    if (arr[midindex] == x):\n",
    "        return midindex\n",
    "    elif arr[midindex] > x:\n",
    "        return binary_search_recursive(arr[:midindex], x)\n",
    "    else: #arr[midindex] < x:\n",
    "        retindex = binary_search_recursive(arr[midindex + 1:], x)\n",
    "        if retindex == -1:\n",
    "            return -1\n",
    "        else:\n",
    "            return midindex + 1 + retindex\n",
    "\n",
    "arr = [1,3,5,7,9]\n",
    "\n",
    "print(binary_search_recursive(arr, 9))"
   ]
  },
  {
   "cell_type": "code",
   "execution_count": 69,
   "metadata": {},
   "outputs": [
    {
     "name": "stdout",
     "output_type": "stream",
     "text": [
      "-1\n"
     ]
    }
   ],
   "source": [
    "def binary_search_recursive2(arr, x, low, high):\n",
    "    if high < low:\n",
    "        return -1;\n",
    "\n",
    "    midindex = (high + low) // 2\n",
    "    if (arr[midindex] == x):\n",
    "        return midindex\n",
    "    elif arr[midindex] > x:\n",
    "        return binary_search_recursive2(arr, x, low, midindex - 1)\n",
    "    else: #arr[midindex] < x:\n",
    "        return binary_search_recursive2(arr, x, midindex + 1, high)\n",
    "\n",
    "arr = [1,3,5,9]\n",
    "print(binary_search_recursive2(arr, 7, 0, len(arr) - 1))"
   ]
  },
  {
   "cell_type": "code",
   "execution_count": 3,
   "metadata": {},
   "outputs": [
    {
     "name": "stdout",
     "output_type": "stream",
     "text": [
      "[11, 12, 22, 25, 34, 64, 90]\n"
     ]
    }
   ],
   "source": [
    "def bubbleSort(arr):\n",
    "    n = len(arr)\n",
    " \n",
    "    for i in range(n-1):\n",
    "        for j in range(0, n-i-1):\n",
    "            if arr[j] > arr[j + 1] :\n",
    "                arr[j], arr[j + 1] = arr[j + 1], arr[j]\n",
    " \n",
    "arr = [64, 34, 25, 12, 22, 11, 90]\n",
    " \n",
    "bubbleSort(arr)\n",
    "print (arr)"
   ]
  }
 ],
 "metadata": {
  "interpreter": {
   "hash": "bf1368bb6b255542dab358c2de2c9daabd3a152dc824e900673d692c7e74feba"
  },
  "kernelspec": {
   "display_name": "Python 3.9.7 ('base')",
   "language": "python",
   "name": "python3"
  },
  "language_info": {
   "codemirror_mode": {
    "name": "ipython",
    "version": 3
   },
   "file_extension": ".py",
   "mimetype": "text/x-python",
   "name": "python",
   "nbconvert_exporter": "python",
   "pygments_lexer": "ipython3",
   "version": "3.9.7"
  },
  "orig_nbformat": 4
 },
 "nbformat": 4,
 "nbformat_minor": 2
}
