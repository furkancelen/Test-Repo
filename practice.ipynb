{
 "cells": [
  {
   "cell_type": "code",
   "execution_count": 16,
   "metadata": {},
   "outputs": [
    {
     "name": "stdout",
     "output_type": "stream",
     "text": [
      "a   97\n",
      "al   205\n",
      "ali   310\n",
      "l   108\n",
      "li   213\n",
      "i   105\n"
     ]
    }
   ],
   "source": [
    "def f(name):    \n",
    "    for i in range(len(name)):\n",
    "        for j in range(i,len(name)):\n",
    "            ss = name[i:j+1]\n",
    "            print(ss + \"   \" + str(sum([ord(s) for s in ss])))\n",
    "f(\"ali\")"
   ]
  }
 ],
 "metadata": {
  "interpreter": {
   "hash": "bf1368bb6b255542dab358c2de2c9daabd3a152dc824e900673d692c7e74feba"
  },
  "kernelspec": {
   "display_name": "Python 3.9.7 ('base')",
   "language": "python",
   "name": "python3"
  },
  "language_info": {
   "codemirror_mode": {
    "name": "ipython",
    "version": 3
   },
   "file_extension": ".py",
   "mimetype": "text/x-python",
   "name": "python",
   "nbconvert_exporter": "python",
   "pygments_lexer": "ipython3",
   "version": "3.9.7"
  },
  "orig_nbformat": 4
 },
 "nbformat": 4,
 "nbformat_minor": 2
}
